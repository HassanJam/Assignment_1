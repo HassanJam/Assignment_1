{
 "cells": [
  {
   "cell_type": "code",
   "execution_count": 1,
   "id": "06ba86bd",
   "metadata": {},
   "outputs": [],
   "source": [
    "import pandas as pd\n",
    "import numpy as np\n",
    "import matplotlib as plt\n",
    "from matplotlib import pyplot"
   ]
  },
  {
   "cell_type": "code",
   "execution_count": 2,
   "id": "51b242f7",
   "metadata": {},
   "outputs": [],
   "source": [
    "path = 'C:\\\\Users\\Hassan\\\\jsrt_metadata.csv'\n",
    "df = pd.read_csv(path,header=0)"
   ]
  },
  {
   "cell_type": "code",
   "execution_count": 3,
   "id": "d8f90bc1",
   "metadata": {},
   "outputs": [
    {
     "data": {
      "text/plain": [
       "0             lung cancer\n",
       "1      pulmonary hematoma\n",
       "2             lung cancer\n",
       "3       Inflammatory mass\n",
       "4             lung cancer\n",
       "              ...        \n",
       "242                   NaN\n",
       "243                   NaN\n",
       "244                   NaN\n",
       "245                   NaN\n",
       "246                   NaN\n",
       "Name: diagnosis, Length: 247, dtype: object"
      ]
     },
     "execution_count": 3,
     "metadata": {},
     "output_type": "execute_result"
    }
   ],
   "source": [
    "df['diagnosis']"
   ]
  },
  {
   "cell_type": "code",
   "execution_count": 4,
   "id": "81c336c4",
   "metadata": {},
   "outputs": [],
   "source": [
    "mx = df['diagnosis'].value_counts().idxmax()"
   ]
  },
  {
   "cell_type": "code",
   "execution_count": 5,
   "id": "88fbdf05",
   "metadata": {},
   "outputs": [],
   "source": [
    "df['diagnosis'].replace(np.nan, mx, inplace=True)"
   ]
  },
  {
   "cell_type": "code",
   "execution_count": 6,
   "id": "f45148c6",
   "metadata": {},
   "outputs": [
    {
     "data": {
      "text/plain": [
       "(array([30.,  1.,  0.,  0.,  0.,  0.,  0.,  0.,  0.,  1.]),\n",
       " array([  1. ,  15.8,  30.6,  45.4,  60.2,  75. ,  89.8, 104.6, 119.4,\n",
       "        134.2, 149. ]),\n",
       " <BarContainer object of 10 artists>)"
      ]
     },
     "execution_count": 6,
     "metadata": {},
     "output_type": "execute_result"
    },
    {
     "data": {
      "image/png": "[encoded data removed]",
      "text/plain": [
       "<Figure size 432x288 with 1 Axes>"
      ]
     },
     "metadata": {
      "needs_background": "light"
     },
     "output_type": "display_data"
    }
   ],
   "source": [
    "plt.pyplot.hist(df['diagnosis'].value_counts())"
   ]
  },
  {
   "cell_type": "code",
   "execution_count": 7,
   "id": "e6e8d451",
   "metadata": {},
   "outputs": [
    {
     "data": {
      "text/plain": [
       "malignant     100\n",
       "non-nodule     93\n",
       "benign         54\n",
       "Name: state, dtype: int64"
      ]
     },
     "execution_count": 7,
     "metadata": {},
     "output_type": "execute_result"
    }
   ],
   "source": [
    "df['state'].value_counts()"
   ]
  },
  {
   "cell_type": "code",
   "execution_count": 8,
   "id": "d936728b",
   "metadata": {},
   "outputs": [
    {
     "data": {
      "text/plain": [
       "([<matplotlib.patches.Wedge at 0x1e8fcae0100>,\n",
       "  <matplotlib.patches.Wedge at 0x1e8fcae0af0>,\n",
       "  <matplotlib.patches.Wedge at 0x1e8fcaee4c0>],\n",
       " [Text(-0.7484341476160993, 0.806130465050269, 'malignant'),\n",
       "  Text(0.06758003618951401, -1.0979221004737196, 'non-module'),\n",
       "  Text(1.029342437877415, 0.387884190944385, 'benign')],\n",
       " [Text(-0.40823680779059957, 0.43970752639105576, '40.5%'),\n",
       "  Text(0.03686183792155309, -0.5988666002583924, '37.7%'),\n",
       "  Text(0.561459511569499, 0.2115731950605736, '21.9%')])"
      ]
     },
     "execution_count": 8,
     "metadata": {},
     "output_type": "execute_result"
    },
    {
     "data": {
      "image/png": "[encoded data removed]",
      "text/plain": [
       "<Figure size 432x288 with 1 Axes>"
      ]
     },
     "metadata": {},
     "output_type": "display_data"
    }
   ],
   "source": [
    "plt.pyplot.pie(df['state'].value_counts(), labels = ['malignant', 'non-module','benign'], shadow = True, autopct = '%1.1f%%', startangle = 60)"
   ]
  },
  {
   "cell_type": "code",
   "execution_count": 9,
   "id": "8933519b",
   "metadata": {},
   "outputs": [
    {
     "data": {
      "text/plain": [
       "Female    128\n",
       "Male      119\n",
       "Name: gender, dtype: int64"
      ]
     },
     "execution_count": 9,
     "metadata": {},
     "output_type": "execute_result"
    }
   ],
   "source": [
    "df['gender'].value_counts()"
   ]
  },
  {
   "cell_type": "code",
   "execution_count": 10,
   "id": "818d9961",
   "metadata": {},
   "outputs": [
    {
     "data": {
      "text/plain": [
       "([<matplotlib.patches.Wedge at 0x1e8fcb3a8e0>,\n",
       "  <matplotlib.patches.Wedge at 0x1e8fcb4b2b0>],\n",
       " [Text(-0.9825303696011749, 0.4946049664240937, 'Female'),\n",
       "  Text(0.9825303696011747, -0.49460496642409424, 'Male')],\n",
       " [Text(-0.5359256561460953, 0.2697845271404147, '51.8%'),\n",
       "  Text(0.5359256561460952, -0.269784527140415, '48.2%')])"
      ]
     },
     "execution_count": 10,
     "metadata": {},
     "output_type": "execute_result"
    },
    {
     "data": {
      "image/png": "[encoded data removed]",
      "text/plain": [
       "<Figure size 432x288 with 1 Axes>"
      ]
     },
     "metadata": {},
     "output_type": "display_data"
    }
   ],
   "source": [
    "plt.pyplot.pie(df['gender'].value_counts(), labels = ['Female', 'Male'],shadow = True, autopct = '%1.1f%%', startangle = 60)"
   ]
  }
 ],
 "metadata": {
  "kernelspec": {
   "display_name": "Python 3 (ipykernel)",
   "language": "python",
   "name": "python3"
  },
  "language_info": {
   "codemirror_mode": {
    "name": "ipython",
    "version": 3
   },
   "file_extension": ".py",
   "mimetype": "text/x-python",
   "name": "python",
   "nbconvert_exporter": "python",
   "pygments_lexer": "ipython3",
   "version": "3.9.7"
  }
 },
 "nbformat": 4,
 "nbformat_minor": 5
}
